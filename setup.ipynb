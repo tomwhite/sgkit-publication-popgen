{
 "cells": [
  {
   "cell_type": "markdown",
   "metadata": {},
   "source": [
    "# Common setup"
   ]
  },
  {
   "cell_type": "code",
   "execution_count": 1,
   "metadata": {},
   "outputs": [],
   "source": [
    "import zarr\n",
    "from pyprojroot import here\n",
    "import pandas as pd\n",
    "import numpy as np\n",
    "import yaml\n",
    "import matplotlib.pyplot as plt\n",
    "import seaborn as sns\n",
    "%matplotlib inline\n",
    "%config InlineBackend.figure_format = 'retina'"
   ]
  },
  {
   "cell_type": "code",
   "execution_count": 2,
   "metadata": {},
   "outputs": [],
   "source": [
    "df_samples = pd.read_csv(here() / 'data/external/ag1000g/phase2/AR1/samples/samples.meta.txt', \n",
    "                         sep='\\t')"
   ]
  },
  {
   "cell_type": "code",
   "execution_count": 3,
   "metadata": {},
   "outputs": [],
   "source": [
    "with open('pop_defs.yml', mode='r') as f:\n",
    "    pop_defs = yaml.safe_load(f)"
   ]
  },
  {
   "cell_type": "code",
   "execution_count": 4,
   "metadata": {},
   "outputs": [],
   "source": [
    "tbl_chromatin = [\n",
    "    ('name', 'chrom', 'start', 'end'),\n",
    "    ('CHX', 'X', 20009764, 24393108),\n",
    "    ('CH2R', '2R', 58984778, 61545105),\n",
    "    ('CH2L', '2L', 1, 2431617),\n",
    "    ('PEU2L', '2L', 2487770, 5042389),\n",
    "    ('IH2L', '2L', 5078962, 5788875),\n",
    "    ('IH3R', '3R', 38988757, 41860198),\n",
    "    ('CH3R', '3R', 52161877, 53200684),\n",
    "    ('CH3L', '3L', 1, 1815119),\n",
    "    ('PEU3L', '3L', 1896830, 4235209),\n",
    "    ('IH3L', '3L', 4264713, 5031692)\n",
    "]"
   ]
  },
  {
   "cell_type": "code",
   "execution_count": 5,
   "metadata": {},
   "outputs": [],
   "source": [
    "seq_ids = '2R', '2L', '3R', '3L', 'X'"
   ]
  },
  {
   "cell_type": "code",
   "execution_count": null,
   "metadata": {},
   "outputs": [],
   "source": []
  }
 ],
 "metadata": {
  "kernelspec": {
   "display_name": "Python 3 (ipykernel)",
   "language": "python",
   "name": "python3"
  },
  "language_info": {
   "codemirror_mode": {
    "name": "ipython",
    "version": 3
   },
   "file_extension": ".py",
   "mimetype": "text/x-python",
   "name": "python",
   "nbconvert_exporter": "python",
   "pygments_lexer": "ipython3",
   "version": "3.10.9"
  },
  "vscode": {
   "interpreter": {
    "hash": "b0fa6594d8f4cbf19f97940f81e996739fb7646882a419484c72d19e05852a7e"
   }
  }
 },
 "nbformat": 4,
 "nbformat_minor": 4
}
